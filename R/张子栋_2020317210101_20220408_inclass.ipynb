{
 "cells": [
  {
   "cell_type": "markdown",
   "id": "49a968d5",
   "metadata": {},
   "source": [
    "# 第七次上机\n",
    "1.(1)"
   ]
  },
  {
   "cell_type": "code",
   "execution_count": 73,
   "id": "79af7f3b",
   "metadata": {
    "trusted": false
   },
   "outputs": [
    {
     "name": "stderr",
     "output_type": "stream",
     "text": [
      "Warning message in chisq.test(table):\n",
      "“Chi-squared approximation may be incorrect”\n"
     ]
    },
    {
     "data": {
      "text/plain": "\n\tPearson's Chi-squared test\n\ndata:  table\nX-squared = 110.35, df = 24, p-value = 4.891e-13\n"
     },
     "metadata": {},
     "output_type": "display_data"
    },
    {
     "data": {
      "text/plain": "\n\tPearson's Chi-squared test with Yates' continuity correction\n\ndata:  table[17:18, ]\nX-squared = 0.96437, df = 1, p-value = 0.3261\n"
     },
     "metadata": {},
     "output_type": "display_data"
    },
    {
     "data": {
      "text/plain": "\n\tPairwise comparisons using t tests with pooled SD \n\ndata:  lgl and myData$chrom \n\n      chr1    chr10   chr11   chr12   chr13   chr14   chr15   chr16   chr17  \nchr10 < 2e-16 -       -       -       -       -       -       -       -      \nchr11 7.6e-12 < 2e-16 -       -       -       -       -       -       -      \nchr12 4.8e-05 < 2e-16 < 2e-16 -       -       -       -       -       -      \nchr13 1.0e-15 0.00972 < 2e-16 1.8e-06 -       -       -       -       -      \nchr14 0.00583 < 2e-16 2.1e-14 0.57480 1.2e-06 -       -       -       -      \nchr15 < 2e-16 1.2e-06 < 2e-16 4.4e-05 0.19618 3.0e-05 -       -       -      \nchr16 < 2e-16 < 2e-16 0.01927 < 2e-16 < 2e-16 < 2e-16 < 2e-16 -       -      \nchr17 < 2e-16 < 2e-16 0.00022 < 2e-16 < 2e-16 < 2e-16 < 2e-16 0.29820 -      \nchr18 < 2e-16 0.00610 < 2e-16 < 2e-16 1.1e-05 < 2e-16 7.4e-10 < 2e-16 < 2e-16\nchr19 < 2e-16 < 2e-16 5.4e-12 < 2e-16 < 2e-16 < 2e-16 < 2e-16 0.00014 0.00318\nchr2  < 2e-16 0.12948 < 2e-16 < 2e-16 0.11045 < 2e-16 0.00015 < 2e-16 < 2e-16\nchr20 0.67794 < 2e-16 7.2e-06 0.00076 1.6e-12 0.01126 1.3e-11 5.4e-10 5.3e-14\nchr21 0.03828 9.7e-12 1.0e-08 0.75448 0.00011 0.92047 0.00193 1.7e-12 1.1e-15\nchr22 0.09513 < 2e-16 0.00480 1.8e-05 1.8e-14 0.00057 1.5e-13 7.1e-06 2.3e-08\nchr3  < 2e-16 0.00744 < 2e-16 2.9e-14 0.51260 8.2e-13 0.01090 < 2e-16 < 2e-16\nchr4  < 2e-16 0.43687 < 2e-16 < 2e-16 0.05984 4.8e-16 0.00012 < 2e-16 < 2e-16\nchr5  < 2e-16 0.00061 < 2e-16 3.8e-10 0.97958 1.4e-09 0.10736 < 2e-16 < 2e-16\nchr6  0.24959 < 2e-16 3.2e-12 0.01124 1.8e-11 0.10599 1.0e-10 < 2e-16 < 2e-16\nchr7  < 2e-16 2.1e-09 < 2e-16 0.00018 0.05984 0.00012 0.54074 < 2e-16 < 2e-16\nchr8  < 2e-16 0.00052 < 2e-16 2.3e-08 0.82241 3.7e-08 0.20102 < 2e-16 < 2e-16\nchr9  0.11632 < 2e-16 5.4e-12 0.06111 1.4e-09 0.26826 1.9e-08 < 2e-16 < 2e-16\nchrM  0.00533 0.00101 0.00982 0.00357 0.00160 0.00385 0.00201 0.01255 0.01407\nchrX  8.5e-08 < 2e-16 0.49193 3.9e-16 < 2e-16 4.5e-11 < 2e-16 0.00480 4.0e-05\nchrY  0.71991 2.9e-13 0.01180 0.03152 7.1e-07 0.08308 1.3e-05 0.00025 1.6e-05\n      chr18   chr19   chr2    chr20   chr21   chr22   chr3    chr4    chr5   \nchr10 -       -       -       -       -       -       -       -       -      \nchr11 -       -       -       -       -       -       -       -       -      \nchr12 -       -       -       -       -       -       -       -       -      \nchr13 -       -       -       -       -       -       -       -       -      \nchr14 -       -       -       -       -       -       -       -       -      \nchr15 -       -       -       -       -       -       -       -       -      \nchr16 -       -       -       -       -       -       -       -       -      \nchr17 -       -       -       -       -       -       -       -       -      \nchr18 -       -       -       -       -       -       -       -       -      \nchr19 < 2e-16 -       -       -       -       -       -       -       -      \nchr2  0.00012 < 2e-16 -       -       -       -       -       -       -      \nchr20 < 2e-16 < 2e-16 < 2e-16 -       -       -       -       -       -      \nchr21 7.0e-15 < 2e-16 1.3e-09 0.03664 -       -       -       -       -      \nchr22 < 2e-16 2.4e-15 < 2e-16 0.28438 0.00407 -       -       -       -      \nchr3  3.8e-06 < 2e-16 0.18847 < 2e-16 2.6e-07 < 2e-16 -       -       -      \nchr4  0.00129 < 2e-16 0.57563 < 2e-16 1.3e-09 < 2e-16 0.09383 -       -      \nchr5  2.7e-07 < 2e-16 0.02720 < 2e-16 1.0e-05 < 2e-16 0.36114 0.01428 -      \nchr6  < 2e-16 < 2e-16 < 2e-16 0.21945 0.19241 0.01940 < 2e-16 < 2e-16 < 2e-16\nchr7  4.9e-12 < 2e-16 7.8e-07 4.1e-11 0.00567 4.5e-13 0.00047 1.4e-06 0.01500\nchr8  2.4e-07 < 2e-16 0.01957 6.3e-16 4.1e-05 < 2e-16 0.26282 0.01056 0.80017\nchr9  < 2e-16 < 2e-16 < 2e-16 0.11688 0.34373 0.00954 < 2e-16 < 2e-16 9.8e-15\nchrM  0.00058 0.01868 0.00121 0.00562 0.00382 0.00664 0.00142 0.00113 0.00160\nchrX  < 2e-16 2.0e-12 < 2e-16 0.00028 4.1e-07 0.03108 < 2e-16 < 2e-16 < 2e-16\nchrY  < 2e-16 6.6e-09 2.2e-11 0.90962 0.10572 0.54512 2.1e-09 1.6e-11 6.0e-08\n      chr6    chr7    chr8    chr9    chrM    chrX   \nchr10 -       -       -       -       -       -      \nchr11 -       -       -       -       -       -      \nchr12 -       -       -       -       -       -      \nchr13 -       -       -       -       -       -      \nchr14 -       -       -       -       -       -      \nchr15 -       -       -       -       -       -      \nchr16 -       -       -       -       -       -      \nchr17 -       -       -       -       -       -      \nchr18 -       -       -       -       -       -      \nchr19 -       -       -       -       -       -      \nchr2  -       -       -       -       -       -      \nchr20 -       -       -       -       -       -      \nchr21 -       -       -       -       -       -      \nchr22 -       -       -       -       -       -      \nchr3  -       -       -       -       -       -      \nchr4  -       -       -       -       -       -      \nchr5  -       -       -       -       -       -      \nchr6  -       -       -       -       -       -      \nchr7  2.4e-10 -       -       -       -       -      \nchr8  1.2e-15 0.04376 -       -       -       -      \nchr9  0.64586 6.9e-08 1.9e-12 -       -       -      \nchrM  0.00478 0.00220 0.00165 0.00452 -       -      \nchrX  1.0e-08 < 2e-16 < 2e-16 7.7e-09 0.00918 -      \nchrY  0.39231 4.2e-05 2.4e-07 0.27649 0.00583 0.03541\n\nP value adjustment method: fdr "
     },
     "metadata": {},
     "output_type": "display_data"
    },
    {
     "data": {
      "text/plain": "\n\tWilcoxon signed rank exact test\n\ndata:  glen[17:18]\nV = 3, p-value = 0.5\nalternative hypothesis: true location is not equal to 0\n"
     },
     "metadata": {},
     "output_type": "display_data"
    }
   ],
   "source": [
    "myData <- read.table('/home/ubuntu/R_course/hg19_gene_table.txt', header = T)\n",
    "idx <- grep('_', myData$chrom)\n",
    "myData <- myData[-idx,]\n",
    "table <- table(myData$chrom, myData$strand)\n",
    "table <- as.data.frame.matrix(table)\n",
    "# (1) 对不同 strand 基因在各染色体上的比例是否相同做统计检验\n",
    "# 相同, p-value < 0.05\n",
    "chisq.test(table)\n",
    "\n",
    "# (2)  对不同 strand 基因在 chr4, chr5 上的比例是否相同做统计检验\n",
    "#  不相同 p-value > 0.05\n",
    "chisq.test(table[17:18,])\n",
    "\n",
    "# (3) 计算基因长度 glen\n",
    "glen <- myData$txEnd - myData$txStart + 1\n",
    "# (3) (a)\n",
    "lgl <- log(glen)\n",
    "# (3) (b)\n",
    "lgl[lgl < 5] <- NA\n",
    "pairwise.t.test(lgl, myData$chrom, p.adjust.method = 'fdr')\n",
    "# (3) (c)\n",
    "# 不是来自相同分布\n",
    "wilcox.test(glen[17:18])"
   ]
  },
  {
   "cell_type": "markdown",
   "source": [
    "2\n",
    "(1)"
   ],
   "metadata": {
    "collapsed": false,
    "pycharm": {
     "name": "#%% md\n"
    }
   }
  },
  {
   "cell_type": "code",
   "execution_count": 94,
   "outputs": [
    {
     "data": {
      "text/plain": "\n\t2-sample test for equality of proportions with continuity correction\n\ndata:  table\nX-squared = 91.61, df = 1, p-value < 2.2e-16\nalternative hypothesis: two.sided\n95 percent confidence interval:\n 0.1129887 0.1703022\nsample estimates:\n   prop 1    prop 2 \n0.6964578 0.5548123 \n"
     },
     "metadata": {},
     "output_type": "display_data"
    },
    {
     "data": {
      "text/plain": "   \n             N          Y\n  A 0.35584137 0.64415863\n  B 0.36752137 0.63247863\n  C 0.64923747 0.35076253\n  D 0.66035354 0.33964646\n  E 0.74828767 0.25171233\n  F 0.93557423 0.06442577"
     },
     "metadata": {},
     "output_type": "display_data"
    },
    {
     "data": {
      "text/plain": "   \n        female       male\n  A 0.11575563 0.88424437\n  B 0.04273504 0.95726496\n  C 0.64596950 0.35403050\n  D 0.47348485 0.52651515\n  E 0.67294521 0.32705479\n  F 0.47759104 0.52240896"
     },
     "metadata": {},
     "output_type": "display_data"
    },
    {
     "data": {
      "text/html": "-0.785793618734187",
      "text/markdown": "-0.785793618734187",
      "text/latex": "-0.785793618734187",
      "text/plain": "[1] -0.7857936"
     },
     "metadata": {},
     "output_type": "display_data"
    },
    {
     "data": {
      "text/plain": "\n\tPearson's product-moment correlation\n\ndata:  acceptRate[, 2] and sexRate[, 1]\nt = -2.541, df = 4, p-value = 0.06391\nalternative hypothesis: true correlation is not equal to 0\n95 percent confidence interval:\n -0.9753531  0.0711263\nsample estimates:\n       cor \n-0.7857936 \n"
     },
     "metadata": {},
     "output_type": "display_data"
    },
    {
     "name": "stdout",
     "output_type": "stream",
     "text": [
      "[1] \"-----------\"\n",
      "[1] \"分析性别录取率\"\n"
     ]
    },
    {
     "data": {
      "text/plain": ", ,  = A\n\n   \n        female       male\n  N 0.17592593 0.37939394\n  Y 0.82407407 0.62060606\n\n, ,  = B\n\n   \n        female       male\n  N 0.32000000 0.36964286\n  Y 0.68000000 0.63035714\n\n, ,  = C\n\n   \n        female       male\n  N 0.65935919 0.63076923\n  Y 0.34064081 0.36923077\n\n, ,  = D\n\n   \n        female       male\n  N 0.65066667 0.66906475\n  Y 0.34933333 0.33093525\n\n, ,  = E\n\n   \n        female       male\n  N 0.76081425 0.72251309\n  Y 0.23918575 0.27748691\n\n, ,  = F\n\n   \n        female       male\n  N 0.92961877 0.94101877\n  Y 0.07038123 0.05898123\n"
     },
     "metadata": {},
     "output_type": "display_data"
    },
    {
     "name": "stdout",
     "output_type": "stream",
     "text": [
      "[1] \"-----------\"\n",
      "[1] \"差异性检验\"\n"
     ]
    },
    {
     "data": {
      "text/plain": "$A\n\n\tPearson's Chi-squared test with Yates' continuity correction\n\ndata:  array(newX[, i], d.call, dn.call)\nX-squared = 16.372, df = 1, p-value = 5.205e-05\n\n\n$B\n\n\tPearson's Chi-squared test with Yates' continuity correction\n\ndata:  array(newX[, i], d.call, dn.call)\nX-squared = 0.085098, df = 1, p-value = 0.7705\n\n\n$C\n\n\tPearson's Chi-squared test with Yates' continuity correction\n\ndata:  array(newX[, i], d.call, dn.call)\nX-squared = 0.63322, df = 1, p-value = 0.4262\n\n\n$D\n\n\tPearson's Chi-squared test with Yates' continuity correction\n\ndata:  array(newX[, i], d.call, dn.call)\nX-squared = 0.22159, df = 1, p-value = 0.6378\n\n\n$E\n\n\tPearson's Chi-squared test with Yates' continuity correction\n\ndata:  array(newX[, i], d.call, dn.call)\nX-squared = 0.80805, df = 1, p-value = 0.3687\n\n\n$F\n\n\tPearson's Chi-squared test with Yates' continuity correction\n\ndata:  array(newX[, i], d.call, dn.call)\nX-squared = 0.21824, df = 1, p-value = 0.6404\n\n"
     },
     "metadata": {},
     "output_type": "display_data"
    },
    {
     "data": {
      "text/plain": "plot without title",
      "image/png": "[encoded data removed]"
     },
     "metadata": {
      "image/png": {
       "width": 420,
       "height": 420
      }
     },
     "output_type": "display_data"
    }
   ],
   "source": [
    "myData <- read.table('/home/ubuntu/R_course/UCB_admission.txt', header = T)\n",
    "# (1)\n",
    "table <- table(myData$sex, myData$accepted)\n",
    "prop.test(table)\n",
    "# p-value < 0.05 录取率相同\n",
    "\n",
    "# (2)\n",
    "acceptRate <- prop.table(table(myData$department, myData$accepted), 1)\n",
    "acceptRate\n",
    "sexRate <- prop.table(table(myData$department, myData$sex), 1)\n",
    "sexRate\n",
    "cor(acceptRate[, 2],sexRate[,1])\n",
    "cor.test(acceptRate[, 2],sexRate[,1])\n",
    "\n",
    "\n",
    "# (3)\n",
    "plot(x = acceptRate[, 2], sexRate[, 1])\n",
    "print('-----------')\n",
    "print('分析性别录取率')\n",
    "prop.table(table(myData$accepted, myData$sex, myData$department), c(2, 3))\n",
    "b <- as.array(table(myData$accepted, myData$sex, myData$department))\n",
    "print('-----------')\n",
    "print('差异性检验')\n",
    "apply(b, 3, chisq.test)\n"
   ],
   "metadata": {
    "collapsed": false,
    "pycharm": {
     "name": "#%%\n"
    }
   }
  },
  {
   "cell_type": "code",
   "execution_count": null,
   "outputs": [],
   "source": [],
   "metadata": {
    "collapsed": false,
    "pycharm": {
     "name": "#%%\n"
    }
   }
  }
 ],
 "metadata": {
  "kernelspec": {
   "display_name": "R",
   "language": "R",
   "name": "ir"
  },
  "language_info": {
   "codemirror_mode": "r",
   "file_extension": ".r",
   "mimetype": "text/x-r-source",
   "name": "R",
   "pygments_lexer": "r",
   "version": "4.1.2"
  },
  "toc": {
   "base_numbering": 1,
   "nav_menu": {},
   "number_sections": true,
   "sideBar": true,
   "skip_h1_title": false,
   "title_cell": "Table of Contents",
   "title_sidebar": "Contents",
   "toc_cell": false,
   "toc_position": {},
   "toc_section_display": true,
   "toc_window_display": false
  }
 },
 "nbformat": 4,
 "nbformat_minor": 5
}