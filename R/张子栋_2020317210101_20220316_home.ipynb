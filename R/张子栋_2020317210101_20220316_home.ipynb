{
 "cells": [
  {
   "cell_type": "markdown",
   "id": "47ee731a",
   "metadata": {},
   "source": [
    "# 课后作业四"
   ]
  },
  {
   "cell_type": "markdown",
   "id": "8a175d2c",
   "metadata": {},
   "source": [
    "1. `user.txt` 数据中有一些同学的性别、年龄、身高等数据：\n",
    "+ 读取数据，按性别分别计算平均身高，平均年龄"
   ]
  },
  {
   "cell_type": "code",
   "execution_count": 46,
   "id": "849eb469",
   "metadata": {},
   "outputs": [
    {
     "data": {
      "text/html": [
       "<table class=\"dataframe\">\n",
       "<caption>A data.frame: 19 × 4</caption>\n",
       "<thead>\n",
       "\t<tr><th scope=col>Name</th><th scope=col>Sex</th><th scope=col>Age</th><th scope=col>Height</th></tr>\n",
       "\t<tr><th scope=col>&lt;chr&gt;</th><th scope=col>&lt;chr&gt;</th><th scope=col>&lt;int&gt;</th><th scope=col>&lt;dbl&gt;</th></tr>\n",
       "</thead>\n",
       "<tbody>\n",
       "\t<tr><td>Alice  </td><td>F</td><td>13</td><td>56.5</td></tr>\n",
       "\t<tr><td>Becka  </td><td>F</td><td>13</td><td>65.3</td></tr>\n",
       "\t<tr><td>Gail   </td><td>F</td><td>14</td><td>64.3</td></tr>\n",
       "\t<tr><td>Karen  </td><td>F</td><td>12</td><td>56.3</td></tr>\n",
       "\t<tr><td>Kathy  </td><td>F</td><td>12</td><td>59.8</td></tr>\n",
       "\t<tr><td>Mary   </td><td>F</td><td>15</td><td>66.5</td></tr>\n",
       "\t<tr><td>Sandy  </td><td>F</td><td>11</td><td>51.3</td></tr>\n",
       "\t<tr><td>Sharon </td><td>F</td><td>15</td><td>62.5</td></tr>\n",
       "\t<tr><td>Tammy  </td><td>F</td><td>14</td><td>62.8</td></tr>\n",
       "\t<tr><td>Alfred </td><td>M</td><td>14</td><td>69.0</td></tr>\n",
       "\t<tr><td>Duke   </td><td>M</td><td>14</td><td>63.5</td></tr>\n",
       "\t<tr><td>Guido  </td><td>M</td><td>15</td><td>67.0</td></tr>\n",
       "\t<tr><td>James  </td><td>M</td><td>12</td><td>57.3</td></tr>\n",
       "\t<tr><td>Jeffrey</td><td>M</td><td>13</td><td>62.5</td></tr>\n",
       "\t<tr><td>John   </td><td>M</td><td>12</td><td>59.0</td></tr>\n",
       "\t<tr><td>Philip </td><td>M</td><td>16</td><td>72.0</td></tr>\n",
       "\t<tr><td>Robert </td><td>M</td><td>12</td><td>64.8</td></tr>\n",
       "\t<tr><td>Thomas </td><td>M</td><td>11</td><td>57.5</td></tr>\n",
       "\t<tr><td>William</td><td>M</td><td>15</td><td>66.5</td></tr>\n",
       "</tbody>\n",
       "</table>\n"
      ],
      "text/latex": [
       "A data.frame: 19 × 4\n",
       "\\begin{tabular}{llll}\n",
       " Name & Sex & Age & Height\\\\\n",
       " <chr> & <chr> & <int> & <dbl>\\\\\n",
       "\\hline\n",
       "\t Alice   & F & 13 & 56.5\\\\\n",
       "\t Becka   & F & 13 & 65.3\\\\\n",
       "\t Gail    & F & 14 & 64.3\\\\\n",
       "\t Karen   & F & 12 & 56.3\\\\\n",
       "\t Kathy   & F & 12 & 59.8\\\\\n",
       "\t Mary    & F & 15 & 66.5\\\\\n",
       "\t Sandy   & F & 11 & 51.3\\\\\n",
       "\t Sharon  & F & 15 & 62.5\\\\\n",
       "\t Tammy   & F & 14 & 62.8\\\\\n",
       "\t Alfred  & M & 14 & 69.0\\\\\n",
       "\t Duke    & M & 14 & 63.5\\\\\n",
       "\t Guido   & M & 15 & 67.0\\\\\n",
       "\t James   & M & 12 & 57.3\\\\\n",
       "\t Jeffrey & M & 13 & 62.5\\\\\n",
       "\t John    & M & 12 & 59.0\\\\\n",
       "\t Philip  & M & 16 & 72.0\\\\\n",
       "\t Robert  & M & 12 & 64.8\\\\\n",
       "\t Thomas  & M & 11 & 57.5\\\\\n",
       "\t William & M & 15 & 66.5\\\\\n",
       "\\end{tabular}\n"
      ],
      "text/markdown": [
       "\n",
       "A data.frame: 19 × 4\n",
       "\n",
       "| Name &lt;chr&gt; | Sex &lt;chr&gt; | Age &lt;int&gt; | Height &lt;dbl&gt; |\n",
       "|---|---|---|---|\n",
       "| Alice   | F | 13 | 56.5 |\n",
       "| Becka   | F | 13 | 65.3 |\n",
       "| Gail    | F | 14 | 64.3 |\n",
       "| Karen   | F | 12 | 56.3 |\n",
       "| Kathy   | F | 12 | 59.8 |\n",
       "| Mary    | F | 15 | 66.5 |\n",
       "| Sandy   | F | 11 | 51.3 |\n",
       "| Sharon  | F | 15 | 62.5 |\n",
       "| Tammy   | F | 14 | 62.8 |\n",
       "| Alfred  | M | 14 | 69.0 |\n",
       "| Duke    | M | 14 | 63.5 |\n",
       "| Guido   | M | 15 | 67.0 |\n",
       "| James   | M | 12 | 57.3 |\n",
       "| Jeffrey | M | 13 | 62.5 |\n",
       "| John    | M | 12 | 59.0 |\n",
       "| Philip  | M | 16 | 72.0 |\n",
       "| Robert  | M | 12 | 64.8 |\n",
       "| Thomas  | M | 11 | 57.5 |\n",
       "| William | M | 15 | 66.5 |\n",
       "\n"
      ],
      "text/plain": [
       "   Name    Sex Age Height\n",
       "1  Alice   F   13  56.5  \n",
       "2  Becka   F   13  65.3  \n",
       "3  Gail    F   14  64.3  \n",
       "4  Karen   F   12  56.3  \n",
       "5  Kathy   F   12  59.8  \n",
       "6  Mary    F   15  66.5  \n",
       "7  Sandy   F   11  51.3  \n",
       "8  Sharon  F   15  62.5  \n",
       "9  Tammy   F   14  62.8  \n",
       "10 Alfred  M   14  69.0  \n",
       "11 Duke    M   14  63.5  \n",
       "12 Guido   M   15  67.0  \n",
       "13 James   M   12  57.3  \n",
       "14 Jeffrey M   13  62.5  \n",
       "15 John    M   12  59.0  \n",
       "16 Philip  M   16  72.0  \n",
       "17 Robert  M   12  64.8  \n",
       "18 Thomas  M   11  57.5  \n",
       "19 William M   15  66.5  "
      ]
     },
     "metadata": {},
     "output_type": "display_data"
    },
    {
     "name": "stdout",
     "output_type": "stream",
     "text": [
      "Female average age is 13.22222 \n",
      "Female average height is 60.58889 \n",
      "Male average age is 13.4 \n",
      "Male average height is 63.91 \n"
     ]
    }
   ],
   "source": [
    "user <- read.table('user.txt', header = T)\n",
    "user\n",
    "cat('Female average age is', mean(user[which(user$Sex=='F'),]$Age), '\\n')\n",
    "cat('Female average height is', mean(user[which(user$Sex=='F'),]$Height), '\\n')\n",
    "cat('Male average age is', mean(user[which(user$Sex=='M'),]$Age), '\\n')\n",
    "cat('Male average height is', mean(user[which(user$Sex=='M'),]$Height), '\\n')"
   ]
  },
  {
   "cell_type": "markdown",
   "id": "bac1766e",
   "metadata": {},
   "source": [
    "+ 转换成列表，并利用 `sapply` 函数计算平均年龄和身高"
   ]
  },
  {
   "cell_type": "code",
   "execution_count": 16,
   "id": "9525c4c7",
   "metadata": {},
   "outputs": [
    {
     "data": {
      "text/html": [
       "<dl>\n",
       "\t<dt>$Age</dt>\n",
       "\t\t<dd><style>\n",
       ".list-inline {list-style: none; margin:0; padding: 0}\n",
       ".list-inline>li {display: inline-block}\n",
       ".list-inline>li:not(:last-child)::after {content: \"\\00b7\"; padding: 0 .5ex}\n",
       "</style>\n",
       "<ol class=list-inline><li>13</li><li>13</li><li>14</li><li>12</li><li>12</li><li>15</li><li>11</li><li>15</li><li>14</li><li>14</li><li>14</li><li>15</li><li>12</li><li>13</li><li>12</li><li>16</li><li>12</li><li>11</li><li>15</li></ol>\n",
       "</dd>\n",
       "\t<dt>$Height</dt>\n",
       "\t\t<dd><style>\n",
       ".list-inline {list-style: none; margin:0; padding: 0}\n",
       ".list-inline>li {display: inline-block}\n",
       ".list-inline>li:not(:last-child)::after {content: \"\\00b7\"; padding: 0 .5ex}\n",
       "</style>\n",
       "<ol class=list-inline><li>56.5</li><li>65.3</li><li>64.3</li><li>56.3</li><li>59.8</li><li>66.5</li><li>51.3</li><li>62.5</li><li>62.8</li><li>69</li><li>63.5</li><li>67</li><li>57.3</li><li>62.5</li><li>59</li><li>72</li><li>64.8</li><li>57.5</li><li>66.5</li></ol>\n",
       "</dd>\n",
       "</dl>\n"
      ],
      "text/latex": [
       "\\begin{description}\n",
       "\\item[\\$Age] \\begin{enumerate*}\n",
       "\\item 13\n",
       "\\item 13\n",
       "\\item 14\n",
       "\\item 12\n",
       "\\item 12\n",
       "\\item 15\n",
       "\\item 11\n",
       "\\item 15\n",
       "\\item 14\n",
       "\\item 14\n",
       "\\item 14\n",
       "\\item 15\n",
       "\\item 12\n",
       "\\item 13\n",
       "\\item 12\n",
       "\\item 16\n",
       "\\item 12\n",
       "\\item 11\n",
       "\\item 15\n",
       "\\end{enumerate*}\n",
       "\n",
       "\\item[\\$Height] \\begin{enumerate*}\n",
       "\\item 56.5\n",
       "\\item 65.3\n",
       "\\item 64.3\n",
       "\\item 56.3\n",
       "\\item 59.8\n",
       "\\item 66.5\n",
       "\\item 51.3\n",
       "\\item 62.5\n",
       "\\item 62.8\n",
       "\\item 69\n",
       "\\item 63.5\n",
       "\\item 67\n",
       "\\item 57.3\n",
       "\\item 62.5\n",
       "\\item 59\n",
       "\\item 72\n",
       "\\item 64.8\n",
       "\\item 57.5\n",
       "\\item 66.5\n",
       "\\end{enumerate*}\n",
       "\n",
       "\\end{description}\n"
      ],
      "text/markdown": [
       "$Age\n",
       ":   1. 13\n",
       "2. 13\n",
       "3. 14\n",
       "4. 12\n",
       "5. 12\n",
       "6. 15\n",
       "7. 11\n",
       "8. 15\n",
       "9. 14\n",
       "10. 14\n",
       "11. 14\n",
       "12. 15\n",
       "13. 12\n",
       "14. 13\n",
       "15. 12\n",
       "16. 16\n",
       "17. 12\n",
       "18. 11\n",
       "19. 15\n",
       "\n",
       "\n",
       "\n",
       "$Height\n",
       ":   1. 56.5\n",
       "2. 65.3\n",
       "3. 64.3\n",
       "4. 56.3\n",
       "5. 59.8\n",
       "6. 66.5\n",
       "7. 51.3\n",
       "8. 62.5\n",
       "9. 62.8\n",
       "10. 69\n",
       "11. 63.5\n",
       "12. 67\n",
       "13. 57.3\n",
       "14. 62.5\n",
       "15. 59\n",
       "16. 72\n",
       "17. 64.8\n",
       "18. 57.5\n",
       "19. 66.5\n",
       "\n",
       "\n",
       "\n",
       "\n",
       "\n"
      ],
      "text/plain": [
       "$Age\n",
       " [1] 13 13 14 12 12 15 11 15 14 14 14 15 12 13 12 16 12 11 15\n",
       "\n",
       "$Height\n",
       " [1] 56.5 65.3 64.3 56.3 59.8 66.5 51.3 62.5 62.8 69.0 63.5 67.0 57.3 62.5 59.0\n",
       "[16] 72.0 64.8 57.5 66.5\n"
      ]
     },
     "metadata": {},
     "output_type": "display_data"
    },
    {
     "data": {
      "text/html": [
       "<style>\n",
       ".dl-inline {width: auto; margin:0; padding: 0}\n",
       ".dl-inline>dt, .dl-inline>dd {float: none; width: auto; display: inline-block}\n",
       ".dl-inline>dt::after {content: \":\\0020\"; padding-right: .5ex}\n",
       ".dl-inline>dt:not(:first-of-type) {padding-left: .5ex}\n",
       "</style><dl class=dl-inline><dt>Age</dt><dd>13.3157894736842</dd><dt>Height</dt><dd>62.3368421052632</dd></dl>\n"
      ],
      "text/latex": [
       "\\begin{description*}\n",
       "\\item[Age] 13.3157894736842\n",
       "\\item[Height] 62.3368421052632\n",
       "\\end{description*}\n"
      ],
      "text/markdown": [
       "Age\n",
       ":   13.3157894736842Height\n",
       ":   62.3368421052632\n",
       "\n"
      ],
      "text/plain": [
       "     Age   Height \n",
       "13.31579 62.33684 "
      ]
     },
     "metadata": {},
     "output_type": "display_data"
    }
   ],
   "source": [
    "user <- read.table('user.txt', header = T)\n",
    "data <- as.list(user[,3:4])\n",
    "data\n",
    "sapply(data, mean)"
   ]
  },
  {
   "cell_type": "markdown",
   "id": "5d50ec32",
   "metadata": {},
   "source": [
    "+ 按照身高分为两个等级 A，B，并对其姓名进行排序"
   ]
  },
  {
   "cell_type": "code",
   "execution_count": 39,
   "id": "6a206c4d",
   "metadata": {},
   "outputs": [
    {
     "data": {
      "text/html": [
       "<table class=\"dataframe\">\n",
       "<caption>A data.frame: 12 × 4</caption>\n",
       "<thead>\n",
       "\t<tr><th></th><th scope=col>Name</th><th scope=col>Sex</th><th scope=col>Age</th><th scope=col>Height</th></tr>\n",
       "\t<tr><th></th><th scope=col>&lt;chr&gt;</th><th scope=col>&lt;chr&gt;</th><th scope=col>&lt;int&gt;</th><th scope=col>&lt;dbl&gt;</th></tr>\n",
       "</thead>\n",
       "<tbody>\n",
       "\t<tr><th scope=row>10</th><td>Alfred </td><td>M</td><td>14</td><td>69.0</td></tr>\n",
       "\t<tr><th scope=row>2</th><td>Becka  </td><td>F</td><td>13</td><td>65.3</td></tr>\n",
       "\t<tr><th scope=row>11</th><td>Duke   </td><td>M</td><td>14</td><td>63.5</td></tr>\n",
       "\t<tr><th scope=row>3</th><td>Gail   </td><td>F</td><td>14</td><td>64.3</td></tr>\n",
       "\t<tr><th scope=row>12</th><td>Guido  </td><td>M</td><td>15</td><td>67.0</td></tr>\n",
       "\t<tr><th scope=row>14</th><td>Jeffrey</td><td>M</td><td>13</td><td>62.5</td></tr>\n",
       "\t<tr><th scope=row>6</th><td>Mary   </td><td>F</td><td>15</td><td>66.5</td></tr>\n",
       "\t<tr><th scope=row>16</th><td>Philip </td><td>M</td><td>16</td><td>72.0</td></tr>\n",
       "\t<tr><th scope=row>17</th><td>Robert </td><td>M</td><td>12</td><td>64.8</td></tr>\n",
       "\t<tr><th scope=row>8</th><td>Sharon </td><td>F</td><td>15</td><td>62.5</td></tr>\n",
       "\t<tr><th scope=row>9</th><td>Tammy  </td><td>F</td><td>14</td><td>62.8</td></tr>\n",
       "\t<tr><th scope=row>19</th><td>William</td><td>M</td><td>15</td><td>66.5</td></tr>\n",
       "</tbody>\n",
       "</table>\n"
      ],
      "text/latex": [
       "A data.frame: 12 × 4\n",
       "\\begin{tabular}{r|llll}\n",
       "  & Name & Sex & Age & Height\\\\\n",
       "  & <chr> & <chr> & <int> & <dbl>\\\\\n",
       "\\hline\n",
       "\t10 & Alfred  & M & 14 & 69.0\\\\\n",
       "\t2 & Becka   & F & 13 & 65.3\\\\\n",
       "\t11 & Duke    & M & 14 & 63.5\\\\\n",
       "\t3 & Gail    & F & 14 & 64.3\\\\\n",
       "\t12 & Guido   & M & 15 & 67.0\\\\\n",
       "\t14 & Jeffrey & M & 13 & 62.5\\\\\n",
       "\t6 & Mary    & F & 15 & 66.5\\\\\n",
       "\t16 & Philip  & M & 16 & 72.0\\\\\n",
       "\t17 & Robert  & M & 12 & 64.8\\\\\n",
       "\t8 & Sharon  & F & 15 & 62.5\\\\\n",
       "\t9 & Tammy   & F & 14 & 62.8\\\\\n",
       "\t19 & William & M & 15 & 66.5\\\\\n",
       "\\end{tabular}\n"
      ],
      "text/markdown": [
       "\n",
       "A data.frame: 12 × 4\n",
       "\n",
       "| <!--/--> | Name &lt;chr&gt; | Sex &lt;chr&gt; | Age &lt;int&gt; | Height &lt;dbl&gt; |\n",
       "|---|---|---|---|---|\n",
       "| 10 | Alfred  | M | 14 | 69.0 |\n",
       "| 2 | Becka   | F | 13 | 65.3 |\n",
       "| 11 | Duke    | M | 14 | 63.5 |\n",
       "| 3 | Gail    | F | 14 | 64.3 |\n",
       "| 12 | Guido   | M | 15 | 67.0 |\n",
       "| 14 | Jeffrey | M | 13 | 62.5 |\n",
       "| 6 | Mary    | F | 15 | 66.5 |\n",
       "| 16 | Philip  | M | 16 | 72.0 |\n",
       "| 17 | Robert  | M | 12 | 64.8 |\n",
       "| 8 | Sharon  | F | 15 | 62.5 |\n",
       "| 9 | Tammy   | F | 14 | 62.8 |\n",
       "| 19 | William | M | 15 | 66.5 |\n",
       "\n"
      ],
      "text/plain": [
       "   Name    Sex Age Height\n",
       "10 Alfred  M   14  69.0  \n",
       "2  Becka   F   13  65.3  \n",
       "11 Duke    M   14  63.5  \n",
       "3  Gail    F   14  64.3  \n",
       "12 Guido   M   15  67.0  \n",
       "14 Jeffrey M   13  62.5  \n",
       "6  Mary    F   15  66.5  \n",
       "16 Philip  M   16  72.0  \n",
       "17 Robert  M   12  64.8  \n",
       "8  Sharon  F   15  62.5  \n",
       "9  Tammy   F   14  62.8  \n",
       "19 William M   15  66.5  "
      ]
     },
     "metadata": {},
     "output_type": "display_data"
    },
    {
     "data": {
      "text/html": [
       "<table class=\"dataframe\">\n",
       "<caption>A data.frame: 7 × 4</caption>\n",
       "<thead>\n",
       "\t<tr><th></th><th scope=col>Name</th><th scope=col>Sex</th><th scope=col>Age</th><th scope=col>Height</th></tr>\n",
       "\t<tr><th></th><th scope=col>&lt;chr&gt;</th><th scope=col>&lt;chr&gt;</th><th scope=col>&lt;int&gt;</th><th scope=col>&lt;dbl&gt;</th></tr>\n",
       "</thead>\n",
       "<tbody>\n",
       "\t<tr><th scope=row>1</th><td>Alice </td><td>F</td><td>13</td><td>56.5</td></tr>\n",
       "\t<tr><th scope=row>13</th><td>James </td><td>M</td><td>12</td><td>57.3</td></tr>\n",
       "\t<tr><th scope=row>15</th><td>John  </td><td>M</td><td>12</td><td>59.0</td></tr>\n",
       "\t<tr><th scope=row>4</th><td>Karen </td><td>F</td><td>12</td><td>56.3</td></tr>\n",
       "\t<tr><th scope=row>5</th><td>Kathy </td><td>F</td><td>12</td><td>59.8</td></tr>\n",
       "\t<tr><th scope=row>7</th><td>Sandy </td><td>F</td><td>11</td><td>51.3</td></tr>\n",
       "\t<tr><th scope=row>18</th><td>Thomas</td><td>M</td><td>11</td><td>57.5</td></tr>\n",
       "</tbody>\n",
       "</table>\n"
      ],
      "text/latex": [
       "A data.frame: 7 × 4\n",
       "\\begin{tabular}{r|llll}\n",
       "  & Name & Sex & Age & Height\\\\\n",
       "  & <chr> & <chr> & <int> & <dbl>\\\\\n",
       "\\hline\n",
       "\t1 & Alice  & F & 13 & 56.5\\\\\n",
       "\t13 & James  & M & 12 & 57.3\\\\\n",
       "\t15 & John   & M & 12 & 59.0\\\\\n",
       "\t4 & Karen  & F & 12 & 56.3\\\\\n",
       "\t5 & Kathy  & F & 12 & 59.8\\\\\n",
       "\t7 & Sandy  & F & 11 & 51.3\\\\\n",
       "\t18 & Thomas & M & 11 & 57.5\\\\\n",
       "\\end{tabular}\n"
      ],
      "text/markdown": [
       "\n",
       "A data.frame: 7 × 4\n",
       "\n",
       "| <!--/--> | Name &lt;chr&gt; | Sex &lt;chr&gt; | Age &lt;int&gt; | Height &lt;dbl&gt; |\n",
       "|---|---|---|---|---|\n",
       "| 1 | Alice  | F | 13 | 56.5 |\n",
       "| 13 | James  | M | 12 | 57.3 |\n",
       "| 15 | John   | M | 12 | 59.0 |\n",
       "| 4 | Karen  | F | 12 | 56.3 |\n",
       "| 5 | Kathy  | F | 12 | 59.8 |\n",
       "| 7 | Sandy  | F | 11 | 51.3 |\n",
       "| 18 | Thomas | M | 11 | 57.5 |\n",
       "\n"
      ],
      "text/plain": [
       "   Name   Sex Age Height\n",
       "1  Alice  F   13  56.5  \n",
       "13 James  M   12  57.3  \n",
       "15 John   M   12  59.0  \n",
       "4  Karen  F   12  56.3  \n",
       "5  Kathy  F   12  59.8  \n",
       "7  Sandy  F   11  51.3  \n",
       "18 Thomas M   11  57.5  "
      ]
     },
     "metadata": {},
     "output_type": "display_data"
    }
   ],
   "source": [
    "user <- read.table('user.txt', header = T)\n",
    "A <- user[which(user$Height >= 60.0),]\n",
    "A[order(A[,1]),]\n",
    "B <- user[which(user$Height < 60.0),]\n",
    "B[order(B[,1]),]"
   ]
  },
  {
   "cell_type": "markdown",
   "id": "3327442e",
   "metadata": {},
   "source": [
    "2. 编写一个函数，提取输入矩阵的奇数行和偶数列构成的子矩阵"
   ]
  },
  {
   "cell_type": "code",
   "execution_count": 50,
   "id": "70f36ec0",
   "metadata": {},
   "outputs": [
    {
     "data": {
      "text/html": [
       "<table class=\"dataframe\">\n",
       "<caption>A matrix: 4 × 4 of type dbl</caption>\n",
       "<tbody>\n",
       "\t<tr><td>1</td><td>5</td><td> 9</td><td>13</td></tr>\n",
       "\t<tr><td>2</td><td>6</td><td>10</td><td>14</td></tr>\n",
       "\t<tr><td>3</td><td>7</td><td>11</td><td>15</td></tr>\n",
       "\t<tr><td>4</td><td>8</td><td>12</td><td>16</td></tr>\n",
       "</tbody>\n",
       "</table>\n"
      ],
      "text/latex": [
       "A matrix: 4 × 4 of type dbl\n",
       "\\begin{tabular}{llll}\n",
       "\t 1 & 5 &  9 & 13\\\\\n",
       "\t 2 & 6 & 10 & 14\\\\\n",
       "\t 3 & 7 & 11 & 15\\\\\n",
       "\t 4 & 8 & 12 & 16\\\\\n",
       "\\end{tabular}\n"
      ],
      "text/markdown": [
       "\n",
       "A matrix: 4 × 4 of type dbl\n",
       "\n",
       "| 1 | 5 |  9 | 13 |\n",
       "| 2 | 6 | 10 | 14 |\n",
       "| 3 | 7 | 11 | 15 |\n",
       "| 4 | 8 | 12 | 16 |\n",
       "\n"
      ],
      "text/plain": [
       "     [,1] [,2] [,3] [,4]\n",
       "[1,] 1    5     9   13  \n",
       "[2,] 2    6    10   14  \n",
       "[3,] 3    7    11   15  \n",
       "[4,] 4    8    12   16  "
      ]
     },
     "metadata": {},
     "output_type": "display_data"
    },
    {
     "data": {
      "text/html": [
       "<table class=\"dataframe\">\n",
       "<caption>A matrix: 2 × 2 of type dbl</caption>\n",
       "<tbody>\n",
       "\t<tr><td>5</td><td>13</td></tr>\n",
       "\t<tr><td>7</td><td>15</td></tr>\n",
       "</tbody>\n",
       "</table>\n"
      ],
      "text/latex": [
       "A matrix: 2 × 2 of type dbl\n",
       "\\begin{tabular}{ll}\n",
       "\t 5 & 13\\\\\n",
       "\t 7 & 15\\\\\n",
       "\\end{tabular}\n"
      ],
      "text/markdown": [
       "\n",
       "A matrix: 2 × 2 of type dbl\n",
       "\n",
       "| 5 | 13 |\n",
       "| 7 | 15 |\n",
       "\n"
      ],
      "text/plain": [
       "     [,1] [,2]\n",
       "[1,] 5    13  \n",
       "[2,] 7    15  "
      ]
     },
     "metadata": {},
     "output_type": "display_data"
    }
   ],
   "source": [
    "myMatrix <- function(matrix0){\n",
    "    a <- c()\n",
    "    for (i in 1:ncol(matrix0)) {\n",
    "        if (i %% 2 == 0) {\n",
    "            for (j in 1:nrow(matrix0)) {\n",
    "                if (j %% 2 == 1) {\n",
    "                    a <- c(a, matrix0[j,i])\n",
    "                }\n",
    "            }\n",
    "        }\n",
    "    }\n",
    "    matrix1 <- matrix(a,nrow = floor(nrow(matrix0) / 2))\n",
    "    return (matrix1)\n",
    "}\n",
    "b <- matrix(c(1,2,3,4,5,6,7,8,9,10,11,12,13,14,15,16), nrow = 4)\n",
    "b\n",
    "b <- myMatrix(b)\n",
    "b"
   ]
  },
  {
   "cell_type": "markdown",
   "id": "971eccad",
   "metadata": {},
   "source": [
    "3. $\\pi$ 的估计：\n",
    "考虑服从 $(0,1)$ 区间上均匀分布的独立随机变量 $X,Y$ 因此，二维随机变量 $(X,Y)$ 的联合概率密度为\n",
    "$$\n",
    "\tf(x,y)=\\begin{cases}\n",
    "    1,\\ 0<x<1,\\ 0<y<1\\\\\n",
    "    0,\\ otherwise\n",
    "    \\end{cases}\n",
    "$$\n",
    "则 $P\\{X^2+Y^2\\leq 1\\}=\\frac{\\pi}{4}$\n",
    "> 提示：产生均匀分布随机变量 `runif()`"
   ]
  },
  {
   "cell_type": "code",
   "execution_count": 77,
   "id": "14c3b88a",
   "metadata": {},
   "outputs": [
    {
     "name": "stdout",
     "output_type": "stream",
     "text": [
      "[1] 3.1416\n"
     ]
    }
   ],
   "source": [
    "x <- runif(10000, min = 0, max = 1)\n",
    "y <- runif(10000, min = 0, max = 1)\n",
    "result <- x ^ 2 + y ^ 2 <= 1\n",
    "oneFourthPi <- length(result[which(result == TRUE)]) / 10000\n",
    "print(oneFourthPi * 4)"
   ]
  },
  {
   "cell_type": "markdown",
   "id": "ca2058ef",
   "metadata": {},
   "source": [
    "4. R 语言编程错误分析\n",
    "    + 函数的参数输入顺序错误，输入的数量错误\n",
    "        + 根据错误信息修改参数或查看帮助文档\n",
    "    + 调用函数时没有使用 `()`\n",
    "    + 使用包前没有加载(`library`)\n",
    "    + 引号使用不当"
   ]
  }
 ],
 "metadata": {
  "kernelspec": {
   "display_name": "R",
   "language": "R",
   "name": "ir"
  },
  "language_info": {
   "codemirror_mode": "r",
   "file_extension": ".r",
   "mimetype": "text/x-r-source",
   "name": "R",
   "pygments_lexer": "r",
   "version": "4.1.2"
  },
  "toc": {
   "base_numbering": 1,
   "nav_menu": {},
   "number_sections": true,
   "sideBar": true,
   "skip_h1_title": false,
   "title_cell": "Table of Contents",
   "title_sidebar": "Contents",
   "toc_cell": false,
   "toc_position": {
    "height": "calc(100% - 180px)",
    "left": "10px",
    "top": "150px",
    "width": "298.81px"
   },
   "toc_section_display": true,
   "toc_window_display": true
  }
 },
 "nbformat": 4,
 "nbformat_minor": 5
}
