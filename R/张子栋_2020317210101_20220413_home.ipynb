{
 "cells": [
  {
   "cell_type": "markdown",
   "id": "66124da1",
   "metadata": {
    "trusted": false,
    "pycharm": {
     "name": "#%% md\n"
    }
   },
   "source": [
    "# 第八讲习题\n",
    "1.读入包含一组学生身高和体重数据的文件 `class.txt`\n",
    "(1).检验不同性别学生身高是否显著不同\n",
    "(2).构建线性回归模型, 用身高来预测体重\n",
    "(3).在该线性模型中, 对你的身高, 预测体重及 $95\\%$ 置信区间"
   ]
  },
  {
   "cell_type": "code",
   "execution_count": 34,
   "outputs": [
    {
     "data": {
      "text/plain": "\n\tWelch Two Sample t-test\n\ndata:  male and female\nt = 2.4377, df = 37.975, p-value = 0.01958\nalternative hypothesis: true difference in means is not equal to 0\n95 percent confidence interval:\n  1.275635 13.774870\nsample estimates:\nmean of x mean of y \n 156.6364  149.1111 \n"
     },
     "metadata": {},
     "output_type": "display_data"
    },
    {
     "data": {
      "text/plain": "\nCall:\nlm(formula = weight ~ height)\n\nResiduals:\n     Min       1Q   Median       3Q      Max \n-10.0735  -5.9364  -0.7291   3.7854  17.6629 \n\nCoefficients:\n            Estimate Std. Error t value Pr(>|t|)    \n(Intercept) -56.7486    16.9124  -3.355  0.00181 ** \nheight        0.6813     0.1101   6.188 3.15e-07 ***\n---\nSignif. codes:  0 ‘***’ 0.001 ‘**’ 0.01 ‘*’ 0.05 ‘.’ 0.1 ‘ ’ 1\n\nResidual standard error: 7.203 on 38 degrees of freedom\nMultiple R-squared:  0.5019,\tAdjusted R-squared:  0.4888 \nF-statistic: 38.29 on 1 and 38 DF,  p-value: 3.147e-07\n"
     },
     "metadata": {},
     "output_type": "display_data"
    },
    {
     "data": {
      "text/html": "<table class=\"dataframe\">\n<caption>A matrix: 1 × 3 of type dbl</caption>\n<thead>\n\t<tr><th></th><th scope=col>fit</th><th scope=col>lwr</th><th scope=col>upr</th></tr>\n</thead>\n<tbody>\n\t<tr><th scope=row>1</th><td>61.79973</td><td>46.32926</td><td>77.27019</td></tr>\n</tbody>\n</table>\n",
      "text/markdown": "\nA matrix: 1 × 3 of type dbl\n\n| <!--/--> | fit | lwr | upr |\n|---|---|---|---|\n| 1 | 61.79973 | 46.32926 | 77.27019 |\n\n",
      "text/latex": "A matrix: 1 × 3 of type dbl\n\\begin{tabular}{r|lll}\n  & fit & lwr & upr\\\\\n\\hline\n\t1 & 61.79973 & 46.32926 & 77.27019\\\\\n\\end{tabular}\n",
      "text/plain": "  fit      lwr      upr     \n1 61.79973 46.32926 77.27019"
     },
     "metadata": {},
     "output_type": "display_data"
    },
    {
     "data": {
      "text/plain": "plot without title",
      "image/png": "[encoded data removed]"
     },
     "metadata": {
      "image/png": {
       "width": 420,
       "height": 420
      }
     },
     "output_type": "display_data"
    }
   ],
   "source": [
    "data <- read.table('/home/ubuntu/R_course/R_data/class.txt')\n",
    "\n",
    "# (1) 检验不同性别学生身高是否显著不同\n",
    "male <- data[data$V5 == 'M',]$V3\n",
    "female <- data[data$V5 == 'F',]$V3\n",
    "t.test(male, female)\n",
    "# p < 0.05 不同性别学生身高显著不同\n",
    "\n",
    "# (2) 构建线性回归模型, 用身高来预测体重\n",
    "height <- data$V3\n",
    "weight <- data$V4\n",
    "lm.sol <- lm(weight ~ height)\n",
    "plot(weight, height)\n",
    "abline(lm.sol)\n",
    "summary(lm.sol)\n",
    "\n",
    "# (3) 在该线性模型中, 对你的身高, 预测体重及 95% 置信区间\n",
    "myHeight <- data.frame(height = 174)\n",
    "predict(lm.sol, myHeight, interval = 'prediction', level = 0.95)"
   ],
   "metadata": {
    "collapsed": false,
    "pycharm": {
     "name": "#%%\n"
    }
   }
  },
  {
   "cell_type": "code",
   "execution_count": null,
   "outputs": [],
   "source": [],
   "metadata": {
    "collapsed": false,
    "pycharm": {
     "name": "#%%\n"
    }
   }
  }
 ],
 "metadata": {
  "kernelspec": {
   "display_name": "R",
   "language": "R",
   "name": "ir"
  },
  "language_info": {
   "codemirror_mode": "r",
   "file_extension": ".r",
   "mimetype": "text/x-r-source",
   "name": "R",
   "pygments_lexer": "r",
   "version": "4.1.2"
  },
  "toc": {
   "base_numbering": 1,
   "nav_menu": {},
   "number_sections": true,
   "sideBar": true,
   "skip_h1_title": false,
   "title_cell": "Table of Contents",
   "title_sidebar": "Contents",
   "toc_cell": false,
   "toc_position": {},
   "toc_section_display": true,
   "toc_window_display": false
  }
 },
 "nbformat": 4,
 "nbformat_minor": 5
}