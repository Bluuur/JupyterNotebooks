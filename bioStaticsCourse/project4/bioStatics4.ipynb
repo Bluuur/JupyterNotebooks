{
 "cells": [
  {
   "cell_type": "markdown",
   "id": "a50b9f26",
   "metadata": {
    "pycharm": {
     "name": "#%% md\n"
    }
   },
   "source": [
    "# 结核杆菌抗药性遗传标记筛选"
   ]
  },
  {
   "cell_type": "markdown",
   "source": [
    "## 使用 Java 筛选区段\n",
    "\n",
    "```Java\n",
    "import java.io.*;\n",
    "import java.util.ArrayList;\n",
    "import java.util.List;\n",
    "\n",
    "/**\n",
    " * @author Zidong Zh\n",
    " * @date 2022/4/19\n",
    " */\n",
    "public class Filter {\n",
    "    public static void main(String[] args) {\n",
    "\n",
    "        List<String> filter = new ArrayList<>();\n",
    "\n",
    "        String filePath = \"D:\\\\SoftWear\\\\QQ\\\\QQdocuments\\\\3301441677\\\\FileRecv\\\\project4\\\\1\\\\basic\\\\strains_1110.indel_flt_homo.split.ln.ann-up0.vcf\";\n",
    "        File file = new File(filePath);\n",
    "        BufferedReader reader = null;\n",
    "        String tempString = null;\n",
    "        int line = 1;\n",
    "        try {\n",
    "            reader = new BufferedReader(new InputStreamReader(new FileInputStream(file), \"GBK\"));\n",
    "            while ((tempString = reader.readLine()) != null) {\n",
    "                String[] strings = tempString.split(\"\\t\");\n",
    "                for (String str : strings) {\n",
    "                    if (str.contains(\"ANN\")) {\n",
    "                        String[] strs = str.split(\";\");\n",
    "                        for (String string : strs) {\n",
    "                            if (string.contains(\"ANN\")) {\n",
    "                                filter.add(string);\n",
    "                            }\n",
    "                        }\n",
    "\n",
    "                    }\n",
    "                }\n",
    "                line++;\n",
    "            }\n",
    "            reader.close();\n",
    "        } catch (FileNotFoundException e) {\n",
    "            e.printStackTrace();\n",
    "        } catch (IOException e) {\n",
    "            e.printStackTrace();\n",
    "        } finally {\n",
    "            if (reader != null) {\n",
    "                try {\n",
    "                    reader.close();\n",
    "                } catch (IOException e) {\n",
    "                    e.printStackTrace();\n",
    "                }\n",
    "            }\n",
    "        }\n",
    "\n",
    "        for (String str :\n",
    "                filter) {\n",
    "            if (str.startsWith(\"ANN\") && str.contains(\"intergenic_region\")){\n",
    "                String[] strings = str.split(\"\\\\|\");\n",
    "                System.out.print(filter.indexOf(str));\n",
    "                System.out.print(\"\\t\");\n",
    "                System.out.println(strings[3]);\n",
    "            }\n",
    "        }\n",
    "    }\n",
    "}\n",
    "\n",
    "```\n",
    "\n",
    "将输出结果保存至 `region.txt`"
   ],
   "metadata": {
    "collapsed": false,
    "pycharm": {
     "name": "#%% md\n"
    }
   },
   "id": "dd243000"
  },
  {
   "cell_type": "code",
   "execution_count": null,
   "outputs": [],
   "source": [
    "sample <- read.table('TB_sen_resist_runned.accession.list')\n",
    "\n",
    "VCF <- read.table('strains_1110.indel_flt_homo.split.ln.ann-up0.vcf', header = T)\n",
    "\n",
    "ETH <- read.table('ETH.resist.acc.list')\n",
    "INH <- read.table('INH.resist.acc.list')\n",
    "MOX <- read.table('MOX.resist.acc.list')\n",
    "OFX <- read.table('OFX.resist.acc.list')\n",
    "PZA <- read.table('PZA.resist.acc.list')\n",
    "RIF <- read.table('RIF.resist.acc.list')\n",
    "STR <- read.table('STR.resist.acc.list')\n",
    "\n",
    "region <- read.table('region.txt')\n",
    "\n",
    "geneRegion <- VCF[region$V1,]\n",
    "\n",
    "sampleInfo <- geneRegion[, 10:1119]\n",
    "sampleData <- cbind(region, sampleInfo)\n",
    "\n",
    "# num = c();\n",
    "\n",
    "# for (i in 1:length(ETH$V1)) {\n",
    "#  num <- c(num, which(sample$V1 == ETH[i, 1]))\n",
    "#}\n",
    "#num <- sort(num)\n",
    "#num\n",
    "for (i in 1:658) {\n",
    "  for (j in 3:1112) {\n",
    "    if (grepl('1/1', sampleData[i, j])) {\n",
    "      sampleData[i, j] = 1\n",
    "    }else {\n",
    "      sampleData[i, j] = 0\n",
    "    }\n",
    "  }\n",
    "}\n",
    "\n",
    "sampleData[, 3:1112] <- as.numeric(unlist(sampleData[, 3:1112]))\n",
    "\n",
    "combine <- as.data.frame(matrix(rep(0, 449 * 1111), c(449, 1111)))\n",
    "colnames(combine) <- colnames(sampleData)[2:1112]\n",
    "combine$V2 <- unique(sampleData$V2)\n",
    "\n",
    "for (i in 1:658) {\n",
    "  index = which(combine$V2 == sampleData[i, 2])\n",
    "  for (j in 3:1112) {\n",
    "    combine[index, j - 1] = combine[index, j - 1] + sampleData[i, j]\n",
    "  }\n",
    "}"
   ],
   "metadata": {
    "collapsed": false,
    "pycharm": {
     "name": "#%%\n",
     "is_executing": true
    },
    "trusted": false
   },
   "id": "71facff5"
  },
  {
   "cell_type": "markdown",
   "source": [
    "+ `region`  `intergene_region` 区段, ANN 筛选\n",
    "+ `geneRegion` 样品在每个位点上的突变信息, 联合 VCF 和 region\n",
    "    + 含有详细信息的, 满足: 是 intergene_region 的基因组区段, 10-1119 列是每个样品在改点位的突变情况\n",
    "+ ETH 等 7 个变量 是对 ETH 等 7 种药有抗性的样品\n",
    "\n",
    "sampleData"
   ],
   "metadata": {
    "collapsed": false,
    "pycharm": {
     "name": "#%% md\n"
    }
   },
   "id": "4a45abbf"
  },
  {
   "cell_type": "code",
   "execution_count": null,
   "outputs": [],
   "source": [
    "num = c();\n",
    "for (i in 1:length(ETH$V1)) {\n",
    "  num <- c(num, which(sample$V1 == ETH[i, 1]))\n",
    "}\n",
    "num <- sort(num)\n",
    "\n",
    "ETHinfo <- combine[,c(1,num)]"
   ],
   "metadata": {
    "collapsed": false,
    "pycharm": {
     "name": "#%%\n"
    }
   }
  }
 ],
 "metadata": {
  "kernelspec": {
   "display_name": "R",
   "language": "R",
   "name": "ir"
  },
  "language_info": {
   "codemirror_mode": "r",
   "file_extension": ".r",
   "mimetype": "text/x-r-source",
   "name": "R",
   "pygments_lexer": "r",
   "version": "4.1.2"
  },
  "toc": {
   "base_numbering": 1,
   "nav_menu": {},
   "number_sections": true,
   "sideBar": true,
   "skip_h1_title": false,
   "title_cell": "Table of Contents",
   "title_sidebar": "Contents",
   "toc_cell": false,
   "toc_position": {},
   "toc_section_display": true,
   "toc_window_display": false
  }
 },
 "nbformat": 4,
 "nbformat_minor": 5
}