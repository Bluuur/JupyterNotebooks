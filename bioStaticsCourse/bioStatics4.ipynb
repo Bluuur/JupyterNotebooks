{
 "cells": [
  {
   "cell_type": "markdown",
   "id": "a50b9f26",
   "metadata": {
    "pycharm": {
     "name": "#%% md\n"
    }
   },
   "source": [
    "# 结核杆菌抗药性遗传标记筛选"
   ]
  },
  {
   "cell_type": "markdown",
   "source": [
    "## 使用 Java 筛选区段\n",
    "\n",
    "```Java\n",
    "import java.io.*;\n",
    "import java.util.ArrayList;\n",
    "import java.util.List;\n",
    "\n",
    "/**\n",
    " * @author Zidong Zh\n",
    " * @date 2022/4/19\n",
    " */\n",
    "public class Filter {\n",
    "    public static void main(String[] args) {\n",
    "\n",
    "        List<String> filter = new ArrayList<>();\n",
    "\n",
    "        String filePath = \"D:\\\\SoftWear\\\\QQ\\\\QQdocuments\\\\3301441677\\\\FileRecv\\\\project4\\\\1\\\\basic\\\\strains_1110.indel_flt_homo.split.ln.ann-up0.vcf\";\n",
    "        File file = new File(filePath);\n",
    "        BufferedReader reader = null;\n",
    "        String tempString = null;\n",
    "        int line = 1;\n",
    "        try {\n",
    "            reader = new BufferedReader(new InputStreamReader(new FileInputStream(file), \"GBK\"));\n",
    "            while ((tempString = reader.readLine()) != null) {\n",
    "                String[] strings = tempString.split(\"\\t\");\n",
    "                for (String str : strings) {\n",
    "                    if (str.contains(\"ANN\")) {\n",
    "                        String[] strs = str.split(\";\");\n",
    "                        for (String string : strs) {\n",
    "                            if (string.contains(\"ANN\")) {\n",
    "                                filter.add(string);\n",
    "                            }\n",
    "                        }\n",
    "\n",
    "                    }\n",
    "                }\n",
    "                line++;\n",
    "            }\n",
    "            reader.close();\n",
    "        } catch (FileNotFoundException e) {\n",
    "            e.printStackTrace();\n",
    "        } catch (IOException e) {\n",
    "            e.printStackTrace();\n",
    "        } finally {\n",
    "            if (reader != null) {\n",
    "                try {\n",
    "                    reader.close();\n",
    "                } catch (IOException e) {\n",
    "                    e.printStackTrace();\n",
    "                }\n",
    "            }\n",
    "        }\n",
    "\n",
    "        for (String str :\n",
    "                filter) {\n",
    "            if (str.startsWith(\"ANN\") && str.contains(\"intergenic_region\")){\n",
    "                String[] strings = str.split(\"\\\\|\");\n",
    "                System.out.println(strings[3]);\n",
    "            }\n",
    "        }\n",
    "    }\n",
    "}\n",
    "\n",
    "```\n",
    "\n",
    "将输出结果保存至 `region.txt`"
   ],
   "metadata": {
    "collapsed": false,
    "pycharm": {
     "name": "#%% md\n"
    }
   }
  },
  {
   "cell_type": "code",
   "execution_count": 1,
   "outputs": [
    {
     "data": {
      "text/html": "<table class=\"dataframe\">\n<caption>A data.frame: 45 × 1</caption>\n<thead>\n\t<tr><th scope=col>V1</th></tr>\n\t<tr><th scope=col>&lt;chr&gt;</th></tr>\n</thead>\n<tbody>\n\t<tr><td>SRR024071</td></tr>\n\t<tr><td>SRR475257</td></tr>\n\t<tr><td>SRR023972</td></tr>\n\t<tr><td>SRR024093</td></tr>\n\t<tr><td>SRR671751</td></tr>\n\t<tr><td>SRR671756</td></tr>\n\t<tr><td>SRR671781</td></tr>\n\t<tr><td>SRR671787</td></tr>\n\t<tr><td>SRR671796</td></tr>\n\t<tr><td>SRR671797</td></tr>\n\t<tr><td>SRR671813</td></tr>\n\t<tr><td>SRR671839</td></tr>\n\t<tr><td>SRR671844</td></tr>\n\t<tr><td>SRR671854</td></tr>\n\t<tr><td>SRR671855</td></tr>\n\t<tr><td>SRR024068</td></tr>\n\t<tr><td>SRR024072</td></tr>\n\t<tr><td>SRR671759</td></tr>\n\t<tr><td>SRR671761</td></tr>\n\t<tr><td>SRR671785</td></tr>\n\t<tr><td>SRR671794</td></tr>\n\t<tr><td>SRR671799</td></tr>\n\t<tr><td>SRR671811</td></tr>\n\t<tr><td>SRR671815</td></tr>\n\t<tr><td>SRR671821</td></tr>\n\t<tr><td>SRR671862</td></tr>\n\t<tr><td>SRR671736</td></tr>\n\t<tr><td>SRR671743</td></tr>\n\t<tr><td>SRR671758</td></tr>\n\t<tr><td>SRR671791</td></tr>\n\t<tr><td>SRR671812</td></tr>\n\t<tr><td>SRR671819</td></tr>\n\t<tr><td>SRR671824</td></tr>\n\t<tr><td>SRR671760</td></tr>\n\t<tr><td>SRR024070</td></tr>\n\t<tr><td>SRR024067</td></tr>\n\t<tr><td>SRR671825</td></tr>\n\t<tr><td>SRR671826</td></tr>\n\t<tr><td>SRR671842</td></tr>\n\t<tr><td>SRR024069</td></tr>\n\t<tr><td>SRR671735</td></tr>\n\t<tr><td>SRR671742</td></tr>\n\t<tr><td>SRR671757</td></tr>\n\t<tr><td>SRR671784</td></tr>\n\t<tr><td>SRR671828</td></tr>\n</tbody>\n</table>\n",
      "text/markdown": "\nA data.frame: 45 × 1\n\n| V1 &lt;chr&gt; |\n|---|\n| SRR024071 |\n| SRR475257 |\n| SRR023972 |\n| SRR024093 |\n| SRR671751 |\n| SRR671756 |\n| SRR671781 |\n| SRR671787 |\n| SRR671796 |\n| SRR671797 |\n| SRR671813 |\n| SRR671839 |\n| SRR671844 |\n| SRR671854 |\n| SRR671855 |\n| SRR024068 |\n| SRR024072 |\n| SRR671759 |\n| SRR671761 |\n| SRR671785 |\n| SRR671794 |\n| SRR671799 |\n| SRR671811 |\n| SRR671815 |\n| SRR671821 |\n| SRR671862 |\n| SRR671736 |\n| SRR671743 |\n| SRR671758 |\n| SRR671791 |\n| SRR671812 |\n| SRR671819 |\n| SRR671824 |\n| SRR671760 |\n| SRR024070 |\n| SRR024067 |\n| SRR671825 |\n| SRR671826 |\n| SRR671842 |\n| SRR024069 |\n| SRR671735 |\n| SRR671742 |\n| SRR671757 |\n| SRR671784 |\n| SRR671828 |\n\n",
      "text/latex": "A data.frame: 45 × 1\n\\begin{tabular}{l}\n V1\\\\\n <chr>\\\\\n\\hline\n\t SRR024071\\\\\n\t SRR475257\\\\\n\t SRR023972\\\\\n\t SRR024093\\\\\n\t SRR671751\\\\\n\t SRR671756\\\\\n\t SRR671781\\\\\n\t SRR671787\\\\\n\t SRR671796\\\\\n\t SRR671797\\\\\n\t SRR671813\\\\\n\t SRR671839\\\\\n\t SRR671844\\\\\n\t SRR671854\\\\\n\t SRR671855\\\\\n\t SRR024068\\\\\n\t SRR024072\\\\\n\t SRR671759\\\\\n\t SRR671761\\\\\n\t SRR671785\\\\\n\t SRR671794\\\\\n\t SRR671799\\\\\n\t SRR671811\\\\\n\t SRR671815\\\\\n\t SRR671821\\\\\n\t SRR671862\\\\\n\t SRR671736\\\\\n\t SRR671743\\\\\n\t SRR671758\\\\\n\t SRR671791\\\\\n\t SRR671812\\\\\n\t SRR671819\\\\\n\t SRR671824\\\\\n\t SRR671760\\\\\n\t SRR024070\\\\\n\t SRR024067\\\\\n\t SRR671825\\\\\n\t SRR671826\\\\\n\t SRR671842\\\\\n\t SRR024069\\\\\n\t SRR671735\\\\\n\t SRR671742\\\\\n\t SRR671757\\\\\n\t SRR671784\\\\\n\t SRR671828\\\\\n\\end{tabular}\n",
      "text/plain": "   V1       \n1  SRR024071\n2  SRR475257\n3  SRR023972\n4  SRR024093\n5  SRR671751\n6  SRR671756\n7  SRR671781\n8  SRR671787\n9  SRR671796\n10 SRR671797\n11 SRR671813\n12 SRR671839\n13 SRR671844\n14 SRR671854\n15 SRR671855\n16 SRR024068\n17 SRR024072\n18 SRR671759\n19 SRR671761\n20 SRR671785\n21 SRR671794\n22 SRR671799\n23 SRR671811\n24 SRR671815\n25 SRR671821\n26 SRR671862\n27 SRR671736\n28 SRR671743\n29 SRR671758\n30 SRR671791\n31 SRR671812\n32 SRR671819\n33 SRR671824\n34 SRR671760\n35 SRR024070\n36 SRR024067\n37 SRR671825\n38 SRR671826\n39 SRR671842\n40 SRR024069\n41 SRR671735\n42 SRR671742\n43 SRR671757\n44 SRR671784\n45 SRR671828"
     },
     "metadata": {},
     "output_type": "display_data"
    }
   ],
   "source": [
    "sample <- read.table('/home/ubuntu/bioStaticCourse/Project4/TB_sen_resist_runned.accession.list')\n",
    "\n",
    "VCF <- read.table('/home/ubuntu/bioStaticCourse/Project4/strains_1110.indel_flt_homo.split.ln.ann-up0.vcf')\n",
    "\n",
    "ETH <- read.table('/home/ubuntu/bioStaticCourse/Project4/ETH.resist.acc.list')\n",
    "INH <- read.table('/home/ubuntu/bioStaticCourse/Project4/INH.resist.acc.list')\n",
    "MOX <- read.table('/home/ubuntu/bioStaticCourse/Project4/MOX.resist.acc.list')\n",
    "OFX <- read.table('/home/ubuntu/bioStaticCourse/Project4/OFX.resist.acc.list')\n",
    "PZA <- read.table('/home/ubuntu/bioStaticCourse/Project4/PZA.resist.acc.list')\n",
    "RIF <- read.table('/home/ubuntu/bioStaticCourse/Project4/RIF.resist.acc.list')\n",
    "STR <- read.table('/home/ubuntu/bioStaticCourse/Project4/STR.resist.acc.list')\n",
    "\n",
    "region <-"
   ],
   "metadata": {
    "collapsed": false,
    "pycharm": {
     "name": "#%%\n"
    },
    "trusted": false
   },
   "id": "71facff5"
  },
  {
   "cell_type": "code",
   "execution_count": null,
   "outputs": [],
   "source": [],
   "metadata": {
    "collapsed": false,
    "pycharm": {
     "name": "#%%\n"
    }
   }
  }
 ],
 "metadata": {
  "kernelspec": {
   "display_name": "R",
   "language": "R",
   "name": "ir"
  },
  "language_info": {
   "codemirror_mode": "r",
   "file_extension": ".r",
   "mimetype": "text/x-r-source",
   "name": "R",
   "pygments_lexer": "r",
   "version": "4.1.2"
  },
  "toc": {
   "base_numbering": 1,
   "nav_menu": {},
   "number_sections": true,
   "sideBar": true,
   "skip_h1_title": false,
   "title_cell": "Table of Contents",
   "title_sidebar": "Contents",
   "toc_cell": false,
   "toc_position": {},
   "toc_section_display": true,
   "toc_window_display": false
  }
 },
 "nbformat": 4,
 "nbformat_minor": 5
}